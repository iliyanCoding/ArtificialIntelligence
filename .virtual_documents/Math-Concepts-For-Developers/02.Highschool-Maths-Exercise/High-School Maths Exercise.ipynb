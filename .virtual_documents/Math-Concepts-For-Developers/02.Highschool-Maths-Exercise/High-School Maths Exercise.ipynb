import sympy
import numpy as np
import matplotlib.pyplot as plt























x = sympy.symbols('x')
a, b, c = sympy.symbols('a b c')

sympy.solve(a * x**2 + b * x + c, x)





sympy.init_printing()
x = sympy.symbols('x')
a, b, c = sympy.symbols('a b c')

sympy.solve(a * x**2 + b * x + c, x)





import math # Move this to the "imports" cell (the second in this notebook)
def solve_quadratic_equation(a, b, c):
    if a == 0:
        if b == 0:
            return []
        else:
            return [-c / b]
    discriminant = b ** 2 - 4*a*c
    denominator = 2 * a
    if discriminant > 0:
        return [(-b - math.sqrt(discriminant)) / denominator, (-b + math.sqrt(discriminant)) / denominator]
    elif discriminant == 0:
        return [(-b / denominator)]
    else:
        return[]


# Testing: Execute this cell. The outputs should match the expected outputs. Feel free to write more tests
print(solve_quadratic_equation(1, -1, -2)) # [-1.0, 2.0]
print(solve_quadratic_equation(1, -8, 16)) # [4.0]
print(solve_quadratic_equation(1, 1, 1)) # []


print(solve_quadratic_equation(0, -1, -2)) # [2.0]
print(solve_quadratic_equation(0, 0, 0)) # []
print(solve_quadratic_equation(0, 0, 3)) # []








# Write your code here. Of course, you may add more cells if needed.





x = np.linspace(-3, 5, 1000)
y = 2 * x + 3
plt.plot(x, y)
plt.show()





ax = plt.gca()
ax.spines["bottom"].set_position("zero")
ax.spines["left"].set_position("zero")
ax.spines["top"].set_visible(False)
ax.spines["right"].set_visible(False)
x = np.linspace(-3, 5, 1000)
y = 2 * x + 3
plt.plot(x, y)
plt.show()





def linearize_function(a, b):
    x = np.linspace(0.1, 5, 1000)
    y = a * np.exp(b * x)
    y_linearized = np.log(a) + b * x
    ax = plt.gca()
    ax.spines["bottom"].set_position("zero")
    ax.spines["left"].set_position("zero")
    ax.spines["top"].set_visible(False)
    ax.spines["right"].set_visible(False)
    plt.plot(x, y)
    plt.plot(x, y_linearized)
    plt.show()

linearize_function(2, 0.5)





def plot_math_function(f, min_x, max_x, num_points):
    x = np.linspace(min_x, max_x, num_points)
    y = f(x)
    ax = plt.gca()
    ax.spines["bottom"].set_position("zero")
    ax.spines["left"].set_position("zero")
    ax.spines["top"].set_visible(False)
    ax.spines["right"].set_visible(False)
    plt.plot(x, y)
    plt.show()


plot_math_function(lambda x: 2 * x + 3, -3, 5, 1000)
plot_math_function(lambda x: -x + 8, -1, 10, 1000)
plot_math_function(lambda x: x**2 - x - 2, -3, 4, 1000)
plot_math_function(lambda x: np.sin(x), -np.pi, np.pi, 1000)
plot_math_function(lambda x: np.sin(x) / x, -4 * np.pi, 4 * np.pi, 1000)





def plot_math_functions(functions, min_x, max_x, num_points):
    # Write your code here
    pass


plot_math_functions([lambda x: 2 * x + 3, lambda x: 0], -3, 5, 1000)
plot_math_functions([lambda x: 3 * x**2 - 2 * x + 5, lambda x: 3 * x + 7], -2, 3, 1000)





plot_math_functions([lambda x: (-4 * x + 7) / 3, lambda x: (-3 * x + 8) / 5, lambda x: (-x - 1) / -2], -1, 4, 1000)








# Write your code here



