{
 "cells": [
  {
   "cell_type": "markdown",
   "id": "16a267ad-282c-48bf-808b-9210528800fd",
   "metadata": {},
   "source": [
    "# Highschool maths\n",
    "## test test"
   ]
  },
  {
   "cell_type": "markdown",
   "id": "ba3b47a8-0301-4548-b54e-f1c083c8e7da",
   "metadata": {},
   "source": [
    "$$ y = x + 5 $$"
   ]
  }
 ],
 "metadata": {
  "kernelspec": {
   "display_name": "Python 3 (ipykernel)",
   "language": "python",
   "name": "python3"
  },
  "language_info": {
   "codemirror_mode": {
    "name": "ipython",
    "version": 3
   },
   "file_extension": ".py",
   "mimetype": "text/x-python",
   "name": "python",
   "nbconvert_exporter": "python",
   "pygments_lexer": "ipython3",
   "version": "3.11.7"
  }
 },
 "nbformat": 4,
 "nbformat_minor": 5
}
