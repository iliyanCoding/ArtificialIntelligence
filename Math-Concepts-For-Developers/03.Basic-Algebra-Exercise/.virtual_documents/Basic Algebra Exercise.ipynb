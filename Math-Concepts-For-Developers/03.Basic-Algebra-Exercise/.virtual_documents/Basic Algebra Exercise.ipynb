%matplotlib inline


import numpy as np
import matplotlib.pyplot as plt
from numpy.polynomial.polynomial import Polynomial








# Write your code here





def interpolate_polynomial(points, degree, min_x, max_x):
    """
    Interpolates a polynomial of the specified degree through the given points and plots it
    points - a list of points (x, y) to plot
    degree - the polynomial degree
    min_x, max_x - range of x values used to plot the interpolating polynomial
    """
    x = points[:, 0]
    y = points[:, 1]
    polynomial_function = Polynomial.fit(x, y, degree)

    plot_x = np.linspace(min_x, max_x, 1000)
    plot_y = polynomial_function(plot_x)

    plt.plot(plot_x, plot_y)
    plt.scatter(x, y)
    plt.xlabel("x")
    plt.ylabel("y")
    plt.show()


points = np.array([(0, 0), (1, 0.8), (2, 0.9), (3, 0.1), (4, -0.8), (5, -1.0)])
interpolate_polynomial(points, len(points) - 1, np.min(points[:, 0]), np.max(points[:, 0]))





interpolate_polynomial(points, len(points) - 1, -5, 10)





interpolate_polynomial(points, 3, np.min(points[:, 0]), np.max(points[:, 0]))
interpolate_polynomial(points, 2, np.min(points[:, 0]), np.max(points[:, 0]))
interpolate_polynomial(points, 1, np.min(points[:, 0]), np.max(points[:, 0]))





interpolate_polynomial(points, 5, np.min(points[:, 0]), np.max(points[:, 0]))
interpolate_polynomial(points, 7, np.min(points[:, 0]), np.max(points[:, 0]))
interpolate_polynomial(points, 10, np.min(points[:, 0]), np.max(points[:, 0]))





interpolate_polynomial(points, 5, -10, 10)
interpolate_polynomial(points, 7, -10, 10)
interpolate_polynomial(points, 10, -10, 10)





interpolate_polynomial(points, len(points) - 1, -2, 7)
interpolate_polynomial(points, len(points) + 1, -2, 7)





points = np.array([(-5, 0.03846), (-4, 0.05882), (-3, 0.1), (-2, 0.2), (-1, 0.5), (0, 1), (1, 0.5), (2, 0.2), (3, 0.1), (4, 0.05882), (5, 0.03846)])
interpolate_polynomial(points, len(points) - 1, np.min(points[:, 0]), np.max(points[:, 0]))





def interpolate_polynomial(points, degree, min_x, max_x):
    """
    Interpolates a polynomial of the specified degree through the given points and plots it
    points - a list of points (x, y) to plot
    degree - the polynomial degree
    min_x, max_x - range of x values used to plot the interpolating polynomial
    """
    x = points[:, 0]
    y = points[:, 1]
    polynomial_function = Polynomial.fit(x, y, degree)

    plot_x = np.linspace(min_x, max_x, 1000)
    plot_y_polynomial = polynomial_function(plot_x)

    plt.plot(plot_x, plot_y_polynomial)
    
    # Define the real generating function
    def generating_function(x):
        return np.exp(-x**2/10) * np.sin(x)

    plot_y_generating = generating_function(plot_x)
    plt.plot(plot_x, plot_y_generating)

    plt.xlabel("x")
    plt.ylabel("y")
    plt.scatter(points[:, 0], points[:, 1])
    plt.show()

points = np.array([(-5, 0.03846), (-4, 0.05882), (-3, 0.1), (-2, 0.2), (-1, 0.5), (0, 1), (1, 0.5), (2, 0.2), (3, 0.1), (4, 0.05882), (5, 0.03846)])
interpolate_polynomial(points, len(points) - 1, np.min(points[:, 0]), np.max(points[:, 0]))





def plot_complex_number(z):
    plt.quiver(0, 0, z.real, z.imag, angles = "xy", scale_units = "xy", scale = 1)
    plt.xticks(range(-4, 6))
    plt.yticks(range(-4, 6))    

plot_complex_number(2 + 3j)





def plot_complex_numbers(numbers, colors):
    """
    Plots the given complex numbers as radius vectors in the 2D space
    """
    plt.quiver(
        [0] * len(numbers),
        [0]  * len(numbers), 
        [z.real for z in numbers], 
        [z.imag for z in numbers], 
        angles = "xy", scale_units = "xy", scale = 1, color = colors)
    
    plt.xticks(range(-4, 9))
    plt.yticks(range(-4, 9))    
    
plot_complex_numbers([2 + 3j, -2 - 1j, -3, 2j], ["green", "red", "blue", "orange"])





z1 = 2 + 3j
z2 = 1 - 1j
plot_complex_numbers([z1, z2, z1 + z2], ["red", "blue", "green"])





z1 = 2 + 3j
z2 = 2 + 0j
plot_complex_numbers([z1, z2, z1 + z2], ["red", "blue", "green"])


z1 = 2 + 3j
z2 = 0 + 2j
plot_complex_numbers([z1, z2, z1 + z2], ["red", "blue", "green"])





z = 2 + 3j
plot_complex_numbers([z, z * 1], ["red", "blue"])
plot_complex_numbers([z, z * -1], ["red", "blue"])
plot_complex_numbers([z, z * 1j], ["red", "blue"])
plot_complex_numbers([z, z * -1j], ["red", "blue"])








z1 = 2 + 3j
z2 = 1 - 2j
plot_complex_numbers([z1, z2, z1 * z2], ["red", "blue", "green"])





def factorial_recursive(n):
    """
    Computes the factorial of a non-negative number n (using recursion)
    """
    if n == 0:
        return 1
    return n * factorial_recursive(n - 1)

def factorial_iterative(n):
    """
    Computes the factorial of a non-negative number n (using iteration)
    """
    result = 1
    for i in range(1, n + 1):
        result *= i
    return result


print(factorial_recursive(8))
print(factorial_iterative(8))





def nat():
    current_number = 0
    while True:
        yield current_number
        current_number += 1

def even():
    current_number = 0
    while True:
        yield current_number
        current_number += 2


natural_number = nat()


next(natural_number)





def factorial_new(n):
    # Write your own docstring as showing it here will be too much of a hint :)
    # Don't forget to also write the code :D
    pass





def fibonacci(n):
    # Write your docstring and code
    pass





# Write your code here





# Write your code here





def encode(text):
    """
    Returns the run-length encoded version of the text
    (numbers after symbols, length = 1 is skipped)
    """
    pass

def decode(text):
    """
    Decodes the text using run-length encoding
    """
    pass


# Tests
# Test that the functions work on their own
assert encode("AABCCCDEEEE") == "A2BC3DE4"
assert decode("A2BC3DE4") == "AABCCCDEEEE"

# Test that the functions really invert each other
assert decode(encode("AABCCCDEEEE")) == "AABCCCDEEEE"
assert encode(decode("A2BC3DE4")) == "A2BC3DE4"





# Write your code here





# Write your code here






