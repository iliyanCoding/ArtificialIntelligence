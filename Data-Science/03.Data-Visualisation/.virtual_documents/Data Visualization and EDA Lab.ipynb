%matplotlib inline


import pandas as pd
import matplotlib.pyplot as plt
import re











data = pd.read_csv('data/spotify_most_streamed_2024.zip', encoding='unicode_escape')


data





data.columns


def to_snake_case(column_name):
    return(
        column_name.strip()
        .replace('.', '_')
        .replace(' ', '_')
        .lower()
    )


data.columns = [to_snake_case(col) for col in data.columns]


data.columns


data.tidal_popularity.unique


data.drop('tidal_popularity', axis=1)





grouped_data_by_artists = data.groupby('artist').size().reset_index(name='songs_count')


grouped_data_by_artists.sort_values(by='songs_count', ascending=False).head(5)


clean_songs = data[data.explicit_track == 0]


clean_artists_count = clean_songs.groupby('artist').size().reset_index(name='clean_songs_count')


top_clean_artists = clean_artists_count.sort_values(by='clean_songs_count', ascending=False).head(5)


top_clean_artists





artist_streams = data.groupby('artist')['spotify_streams'].sum().reset_index(name='total_streams')


artist_streams


artist_streams.total_streams.replace(',', '', regex=True)


artist_streams['total_streams'] = artist_streams['total_streams'].str.replace(',', '', regex=True)


artist_streams['total_streams'] = pd.to_numeric(artist_streams['total_streams'], errors='coerce', downcast='float')


artist_streams.total_streams


most_streamed_artists = artist_streams.sort_values(by='total_streams', ascending=False)


most_streamed_artists.head(5)





data.release_date


data['release_year'] = pd.to_datetime(data['release_date']).dt.year


data.release_year


songs_per_year = data.groupby('release_year').size().reset_index(name='songs_count')


songs_per_year


plt.figure(figsize=(10, 6))
plt.bar(songs_per_year['release_year'], songs_per_year['songs_count'], color='skyblue')
plt.xlabel('Year')
plt.ylabel('Number of Songs')
plt.title('Number of Songs Released Per Year')
plt.xticks(rotation=45)
plt.tight_layout()
plt.show()



























