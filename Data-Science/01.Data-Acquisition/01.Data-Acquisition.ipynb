{
 "cells": [
  {
   "cell_type": "code",
   "execution_count": 3,
   "id": "cafb14e8-5c04-4f0c-8835-8f8462fc1208",
   "metadata": {},
   "outputs": [],
   "source": [
    "%matplotlib inline"
   ]
  },
  {
   "cell_type": "code",
   "execution_count": 1,
   "id": "1b7d5a49-71a0-4a92-88ab-2c7ee57f4cb2",
   "metadata": {},
   "outputs": [],
   "source": [
    "import numpy as np\n",
    "import pandas as pd\n",
    "import matplotlib.pyplot as plt"
   ]
  },
  {
   "cell_type": "markdown",
   "id": "dca1e17f-6db6-4a1b-b23c-674d2d4eb53a",
   "metadata": {},
   "source": [
    "# Data Acquisition"
   ]
  },
  {
   "cell_type": "markdown",
   "id": "331148eb-efb3-4f65-9d0c-a909f185e9df",
   "metadata": {},
   "source": [
    "## Live Demos"
   ]
  },
  {
   "cell_type": "code",
   "execution_count": 9,
   "id": "b6bc8e78-4e32-46ad-bf2f-c21d04dc87bf",
   "metadata": {},
   "outputs": [],
   "source": [
    "accidents = pd.read_csv(\"accidents.csv\")"
   ]
  },
  {
   "cell_type": "code",
   "execution_count": 11,
   "id": "59cac1cc-c064-4ae0-bb80-4992ab3f3f0e",
   "metadata": {},
   "outputs": [
    {
     "data": {
      "text/html": [
       "<div>\n",
       "<style scoped>\n",
       "    .dataframe tbody tr th:only-of-type {\n",
       "        vertical-align: middle;\n",
       "    }\n",
       "\n",
       "    .dataframe tbody tr th {\n",
       "        vertical-align: top;\n",
       "    }\n",
       "\n",
       "    .dataframe thead th {\n",
       "        text-align: right;\n",
       "    }\n",
       "</style>\n",
       "<table border=\"1\" class=\"dataframe\">\n",
       "  <thead>\n",
       "    <tr style=\"text-align: right;\">\n",
       "      <th></th>\n",
       "      <th>Miles from Home</th>\n",
       "      <th>% of Accidents</th>\n",
       "    </tr>\n",
       "  </thead>\n",
       "  <tbody>\n",
       "    <tr>\n",
       "      <th>0</th>\n",
       "      <td>less than 1</td>\n",
       "      <td>23</td>\n",
       "    </tr>\n",
       "    <tr>\n",
       "      <th>1</th>\n",
       "      <td>1 to 5</td>\n",
       "      <td>29</td>\n",
       "    </tr>\n",
       "    <tr>\n",
       "      <th>2</th>\n",
       "      <td>6 to 10</td>\n",
       "      <td>17</td>\n",
       "    </tr>\n",
       "    <tr>\n",
       "      <th>3</th>\n",
       "      <td>11 to 15</td>\n",
       "      <td>8</td>\n",
       "    </tr>\n",
       "    <tr>\n",
       "      <th>4</th>\n",
       "      <td>16 to 20</td>\n",
       "      <td>6</td>\n",
       "    </tr>\n",
       "    <tr>\n",
       "      <th>5</th>\n",
       "      <td>over 20</td>\n",
       "      <td>17</td>\n",
       "    </tr>\n",
       "  </tbody>\n",
       "</table>\n",
       "</div>"
      ],
      "text/plain": [
       "  Miles from Home  % of Accidents\n",
       "0     less than 1              23\n",
       "1          1 to 5              29\n",
       "2         6 to 10              17\n",
       "3        11 to 15               8\n",
       "4        16 to 20               6\n",
       "5         over 20              17"
      ]
     },
     "execution_count": 11,
     "metadata": {},
     "output_type": "execute_result"
    }
   ],
   "source": [
    "accidents"
   ]
  },
  {
   "cell_type": "code",
   "execution_count": 10,
   "id": "0a42a800-103c-45e0-bd0b-56e80f187df2",
   "metadata": {},
   "outputs": [
    {
     "data": {
      "text/plain": [
       "Index(['Miles from Home', '% of Accidents'], dtype='object')"
      ]
     },
     "execution_count": 10,
     "metadata": {},
     "output_type": "execute_result"
    }
   ],
   "source": [
    "accidents.columns"
   ]
  },
  {
   "cell_type": "code",
   "execution_count": 12,
   "id": "81b51e7f-cf6a-4b9d-ae9a-904bae5f43c5",
   "metadata": {},
   "outputs": [
    {
     "data": {
      "text/plain": [
       "0    less than 1\n",
       "1         1 to 5\n",
       "2        6 to 10\n",
       "3       11 to 15\n",
       "4       16 to 20\n",
       "5        over 20\n",
       "Name: Miles from Home, dtype: object"
      ]
     },
     "execution_count": 12,
     "metadata": {},
     "output_type": "execute_result"
    }
   ],
   "source": [
    "accidents[\"Miles from Home\"]"
   ]
  },
  {
   "cell_type": "code",
   "execution_count": null,
   "id": "23356e27-a989-46ca-bc48-f25c1f394714",
   "metadata": {},
   "outputs": [],
   "source": []
  }
 ],
 "metadata": {
  "kernelspec": {
   "display_name": "Python 3 (ipykernel)",
   "language": "python",
   "name": "python3"
  },
  "language_info": {
   "codemirror_mode": {
    "name": "ipython",
    "version": 3
   },
   "file_extension": ".py",
   "mimetype": "text/x-python",
   "name": "python",
   "nbconvert_exporter": "python",
   "pygments_lexer": "ipython3",
   "version": "3.11.9"
  }
 },
 "nbformat": 4,
 "nbformat_minor": 5
}
