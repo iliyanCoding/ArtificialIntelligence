%matplotlib inline


import numpy as np
import pandas as pd
import matplotlib.pyplot as plt








accidents = pd.read_csv("accidents.csv")


accidents


accidents.columns


accidents["Miles from Home"]



