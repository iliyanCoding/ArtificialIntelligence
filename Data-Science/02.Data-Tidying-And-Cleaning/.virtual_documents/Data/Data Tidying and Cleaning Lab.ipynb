%matplotlib inline


import numpy as np
import pandas as pd
import matplotlib.pyplot as plt
import re











cofee_data = pd.read_csv('data/merged_data_cleaned.csv')


cofee_data





cofee_data.dtypes











def to_snake_case(column_name):
    return(
        column_name.strip()
        .replace('.', '_')
        .replace(' ', '_')
        .lower()
    )


cofee_data.columns = [to_snake_case(col) for col in cofee_data.columns]


cofee_data.dtypes








cofee_data.bag_weight.unique()


def clean_bag_weight(weight):
    cleaned_weight = re.sub(r'[^0-9.,]', '', weight)
    if 'lbs' in weight:
        try:
            weight_in_kg = float(cleaned_weight) * 0.453592
        except ValueError:
            weight_in_kg = None  # Handle conversion error gracefully
    else:
        # Just convert to float (assuming it is in kg or without unit)
        try:
            weight_in_kg = float(cleaned_weight)
        except ValueError:
            weight_in_kg = None  # Handle conversion error gracefully
    
    return weight_in_kg
cofee_data.bag_weight = cofee_data.bag_weight.apply(clean_bag_weight)

# Check the cleaned data
cofee_data['bag_weight'].head()


cofee_data.bag_weight





def clean_harvest_year(value):
    if pd.isna(value):
        return None  # Handle missing values
    
    value = str(value).strip().lower()
    
    # Match a single year (e.g., "2014")
    if re.match(r'^\d{4}$', value):
        return int(value)
    
    # Match a year range (e.g., "2009-2010", "2009 / 2010")
    if re.match(r'^\d{4}[\s/-]+\d{4}$', value):
        years = [int(y) for y in re.split(r'[\s/-]+', value)]
        return min(years)  # Use the earlier year
    
    # Match a month and year (e.g., "March 2010")
    if re.match(r'^(january|february|march|april|may|june|july|august|september|october|november|december)\s\d{4}$', value):
        return int(value.split()[-1])  # Extract the year
    
    # Match seasons with a year (e.g., "Spring 2011", "Fall 2009")
    if re.match(r'^(spring|summer|fall|autumn|winter)\s\d{4}$', value):
        return int(value.split()[-1])  # Extract the year
    
    # Match ambiguous ranges or periods (e.g., "January Through April 2011")
    if re.search(r'\d{4}', value):
        return int(re.search(r'\d{4}', value).group())  # Extract the first valid year
    
    # Handle invalid entries (e.g., "TEST", "mmm", "4T/10")
    if re.search(r'(test|mmm|t/|crop|unknown)', value):
        return None  # Flag invalid entries
    
    # Match non-English months (e.g., "Abril - Julio /2011")
    non_english_months = {
        "enero": 1, "febrero": 2, "marzo": 3, "abril": 4, "mayo": 5, "junio": 6,
        "julio": 7, "agosto": 8, "septiembre": 9, "octubre": 10, "noviembre": 11, "diciembre": 12
    }
    for month in non_english_months:
        if month in value:
            if re.search(r'\d{4}', value):
                return int(re.search(r'\d{4}', value).group())  # Extract the year
    
    return None  # Default for unhandled cases

# Apply the cleaning function to the harvest_year column
cofee_data['harvest_year'] = cofee_data['harvest_year'].apply(clean_harvest_year)



cofee_data.harvest_year.unique()


cofee_data.harvest_year


cofee_data['harvest_year'] = cofee_data['harvest_year'].astype('Int64')


cofee_data['harvest_year'] = pd.to_datetime(cofee_data['harvest_year'], format='%Y', errors='coerce')


cofee_data.dtypes





cofee_data.country_of_origin.unique()


unknown_count = cofee_data['country_of_origin'].isna().sum()
cofee_data['country_of_origin'].fillna('Unknown', inplace=True)


cofee_data.country_of_origin.unique()





cofee_data.owner


cofee_data.owner_1


cofee_data.producer
























