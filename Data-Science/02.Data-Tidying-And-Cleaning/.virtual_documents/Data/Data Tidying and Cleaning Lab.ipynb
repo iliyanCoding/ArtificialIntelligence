%matplotlib inline


import numpy as np
import pandas as pd
import matplotlib.pyplot as plt
import re











cofee_data = pd.read_csv('data/merged_data_cleaned.csv')


cofee_data





cofee_data.dtypes











def to_snake_case(column_name):
    return(
        column_name.strip()
        .replace('.', '_')
        .replace(' ', '_')
        .lower()
    )


cofee_data.columns = [to_snake_case(col) for col in cofee_data.columns]


cofee_data.dtypes








cofee_data.bag_weight.unique()


def clean_bag_weight(weight):
    cleaned_weight = re.sub(r'[^0-9.,]', '', weight)
    if 'lbs' in weight:
        try:
            weight_in_kg = float(cleaned_weight) * 0.453592
        except ValueError:
            weight_in_kg = None  # Handle conversion error gracefully
    else:
        # Just convert to float (assuming it is in kg or without unit)
        try:
            weight_in_kg = float(cleaned_weight)
        except ValueError:
            weight_in_kg = None  # Handle conversion error gracefully
    
    return weight_in_kg
cofee_data.bag_weight = cofee_data.bag_weight.apply(clean_bag_weight)

# Check the cleaned data
cofee_data['bag_weight'].head()


cofee_data.bag_weight










































