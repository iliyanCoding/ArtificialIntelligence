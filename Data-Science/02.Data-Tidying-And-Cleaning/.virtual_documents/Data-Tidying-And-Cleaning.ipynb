%matplotlib inline


import numpy as np
import pandas as pd
import matplotlib.pyplot as plt





pew = pd.read_csv("Lab/pew.csv")


pew


pew_tidy = pew.melt(id_vars=["religion"], var_name = "income", value_name = "frequency")


pew_tidy


pew_tidy.religion = pew_tidy.religion.astype("category")


pew_tidy.income = pew_tidy.income.astype("category")


pew_tidy.dtypes


tb = pd.read_csv("Lab/tb.csv")


tb


tb.describe().T


tb_tidy = tb.melt(id_vars = ["iso2", "year"], var_name = "sex_and_age", value_name = "cases")


tb_tidy 


tb_tidy["sex"] = tb_tidy.sex_and_age.str.slice(0, 1)


tb_tidy["age_group"] = tb_tidy.sex_and_age.str.slice(1)


tb_tidy


tb_tidy = tb_tidy.drop(columns = "sex_and_age")


tb_tidy


tb_tidy.describe().T


tb_tidy_no_missing = tb_tidy.dropna()


tb_tidy_no_missing


tb_tidy_no_missing[tb_tidy_no_missing.iso2 == "BG"]


def process_age_group (age_group) :
    ages = {"04" : "0-4", "65": "65+", "u": "unknown"}
    if age_group in ages:
        return ages [age_group]
    else:
        # Put a dash before the last two digits
        return f"{age_group[: -2]}-{age_group[-2: ]}"


process_age_group("1535")


tb_tidy_no_missing.age_group = tb_tidy_no_missing.age_group.apply(process_age_group)


tb_tidy_no_missing.age_group.unique()
