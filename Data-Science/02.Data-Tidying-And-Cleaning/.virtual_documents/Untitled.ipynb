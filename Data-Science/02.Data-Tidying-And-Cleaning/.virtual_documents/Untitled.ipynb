%matplotlib inline


import numpy as np
import pandas as pd
import matplotlib.pyplot as plt





pew = pd.read_csv("Lab/pew.csv")


pew


pew_tidy = pew.melt(id_vars=["religion"], var_name = "income", value_name = "frequency")


pew_tidy


pew_tidy.religion = pew_tidy.religion.astype("category")


pew_tidy.income = pew_tidy.income.astype("category")


pew_tidy.dtypes



